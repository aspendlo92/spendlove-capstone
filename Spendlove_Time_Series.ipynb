{
  "nbformat": 4,
  "nbformat_minor": 0,
  "metadata": {
    "colab": {
      "provenance": [],
      "include_colab_link": true
    },
    "kernelspec": {
      "name": "ir",
      "display_name": "R"
    },
    "language_info": {
      "name": "R"
    }
  },
  "cells": [
    {
      "cell_type": "markdown",
      "metadata": {
        "id": "view-in-github",
        "colab_type": "text"
      },
      "source": [
        "<a href=\"https://colab.research.google.com/github/aspendlo92/spendlove-capstone/blob/main/Spendlove_Time_Series.ipynb\" target=\"_parent\"><img src=\"https://colab.research.google.com/assets/colab-badge.svg\" alt=\"Open In Colab\"/></a>"
      ]
    },
    {
      "cell_type": "markdown",
      "source": [
        "# Questions to Answer:"
      ],
      "metadata": {
        "id": "AEZLyeoce8Rd"
      }
    },
    {
      "cell_type": "markdown",
      "source": [
        "## What is your name?\n",
        "\n",
        "### Andy Spendlove"
      ],
      "metadata": {
        "id": "Ujtq6d3Ge8Ap"
      }
    },
    {
      "cell_type": "markdown",
      "source": [
        "## What is your question?\n",
        "\n",
        "### Is there a significant short-term trend or anomaly in the mean temperature in Delhi over the first few months of 2017?"
      ],
      "metadata": {
        "id": "mEWJUJzje75Q"
      }
    },
    {
      "cell_type": "markdown",
      "source": [
        "## Describe your dataset, including the URL\n",
        "\n",
        "### This is a small, simple dataset showing mean temperature (Celsius), humidity (units are grams of water vapor per cubic meter volume of air), wind speed (km/h), and air pressure (atm) in Delhi from Jan 1, 2017 to April 24, 2017.\n",
        "### https://www.kaggle.com/datasets/sumanthvrao/daily-climate-time-series-data"
      ],
      "metadata": {
        "id": "Rtz8jVwAe7v0"
      }
    },
    {
      "cell_type": "markdown",
      "source": [
        "## What is(are) your independent variable(s) and dependent variable(s)?\n",
        "\n",
        "### My dependent variable is mean temperature (continuous), and my main independent variable is the date (temporal/continuous). I will also include exogenous regressors such as humidity (continuous) and air pressure (continuous) in the model."
      ],
      "metadata": {
        "id": "ErZwplNie7ra"
      }
    },
    {
      "cell_type": "markdown",
      "source": [
        "## Are your variables suitable for the analysis method (time-series)?\n",
        "\n",
        "### All variables are appropriate for the ARIMA method: the mean temperature as the dependent variable is continuous, date provides a natural time index for the time-series analysis, and humidity and air pressure should be helpful exogenous regressors that can explain variations in temperature beyond what can be explained by time alone.\n",
        "\n"
      ],
      "metadata": {
        "id": "Wc-2AO2he7kl"
      }
    },
    {
      "cell_type": "markdown",
      "source": [
        "## What are your conclusions?\n",
        "\n",
        "### The ADF, ACF, and PACF tests/plots in chunks 18, 19, and 20 showed that we were dealing with an ARIMA(0,0,0) (white noise) case, where the data was. The ARIMA model performed a little better than the OLS model, as we can see from the slightly lower AIC value in code chunk 28, which means it strikes a better balance between fit and simplicity. However, neither model explained much of the variation in temperature, with pseudo R-squared values showing that both models only account for around 9-10% of the variance (see: code chunk 27 calculating R-squared values). The coefficients showed that humidity decreases temperature while mean pressure increases it, and both relationships were statistically significant (chunks 16 and 24)."
      ],
      "metadata": {
        "id": "3w8c0FB-e7ae"
      }
    },
    {
      "cell_type": "markdown",
      "source": [
        "## What are your assumptions and limitations? What robustness checks did you perform or would you perform?"
      ],
      "metadata": {
        "id": "AUqp9gp1ijvM"
      }
    },
    {
      "cell_type": "code",
      "execution_count": 12,
      "metadata": {
        "collapsed": true,
        "id": "Si4T9gN0EDoe"
      },
      "outputs": [],
      "source": [
        "# Install necessary packages\n",
        "#install.packages(\"ggplot2\")\n",
        "#install.packages(\"dplyr\")\n",
        "#install.packages(\"lubridate\")\n",
        "#install.packages(\"car\")\n",
        "#install.packages(\"forecast\")\n",
        "#install.packages(\"tseries\")\n",
        "\n",
        "# Load libraries\n",
        "library(ggplot2)\n",
        "library(dplyr)\n",
        "library(lubridate)\n",
        "library(car)\n",
        "library(forecast)\n",
        "library(tseries)"
      ]
    },
    {
      "cell_type": "code",
      "source": [
        "# Load the CSV data\n",
        "climate <- read.csv('/content/DailyDelhiClimateTest.csv')\n",
        "\n",
        "head(climate)"
      ],
      "metadata": {
        "id": "LX5JYyKWEP4n",
        "colab": {
          "base_uri": "https://localhost:8080/",
          "height": 286
        },
        "outputId": "1fd94f80-32f9-4bfd-8ef0-5dd7325c8ab2"
      },
      "execution_count": 10,
      "outputs": [
        {
          "output_type": "display_data",
          "data": {
            "text/html": [
              "<table class=\"dataframe\">\n",
              "<caption>A data.frame: 6 × 5</caption>\n",
              "<thead>\n",
              "\t<tr><th></th><th scope=col>date</th><th scope=col>meantemp</th><th scope=col>humidity</th><th scope=col>wind_speed</th><th scope=col>meanpressure</th></tr>\n",
              "\t<tr><th></th><th scope=col>&lt;chr&gt;</th><th scope=col>&lt;dbl&gt;</th><th scope=col>&lt;dbl&gt;</th><th scope=col>&lt;dbl&gt;</th><th scope=col>&lt;dbl&gt;</th></tr>\n",
              "</thead>\n",
              "<tbody>\n",
              "\t<tr><th scope=row>1</th><td>2017-01-01</td><td>15.91304</td><td>85.86957</td><td>2.743478</td><td>  59.000</td></tr>\n",
              "\t<tr><th scope=row>2</th><td>2017-01-02</td><td>18.50000</td><td>77.22222</td><td>2.894444</td><td>1018.278</td></tr>\n",
              "\t<tr><th scope=row>3</th><td>2017-01-03</td><td>17.11111</td><td>81.88889</td><td>4.016667</td><td>1018.333</td></tr>\n",
              "\t<tr><th scope=row>4</th><td>2017-01-04</td><td>18.70000</td><td>70.05000</td><td>4.545000</td><td>1015.700</td></tr>\n",
              "\t<tr><th scope=row>5</th><td>2017-01-05</td><td>18.38889</td><td>74.94444</td><td>3.300000</td><td>1014.333</td></tr>\n",
              "\t<tr><th scope=row>6</th><td>2017-01-06</td><td>19.31818</td><td>79.31818</td><td>8.681818</td><td>1011.773</td></tr>\n",
              "</tbody>\n",
              "</table>\n"
            ],
            "text/markdown": "\nA data.frame: 6 × 5\n\n| <!--/--> | date &lt;chr&gt; | meantemp &lt;dbl&gt; | humidity &lt;dbl&gt; | wind_speed &lt;dbl&gt; | meanpressure &lt;dbl&gt; |\n|---|---|---|---|---|---|\n| 1 | 2017-01-01 | 15.91304 | 85.86957 | 2.743478 |   59.000 |\n| 2 | 2017-01-02 | 18.50000 | 77.22222 | 2.894444 | 1018.278 |\n| 3 | 2017-01-03 | 17.11111 | 81.88889 | 4.016667 | 1018.333 |\n| 4 | 2017-01-04 | 18.70000 | 70.05000 | 4.545000 | 1015.700 |\n| 5 | 2017-01-05 | 18.38889 | 74.94444 | 3.300000 | 1014.333 |\n| 6 | 2017-01-06 | 19.31818 | 79.31818 | 8.681818 | 1011.773 |\n\n",
            "text/latex": "A data.frame: 6 × 5\n\\begin{tabular}{r|lllll}\n  & date & meantemp & humidity & wind\\_speed & meanpressure\\\\\n  & <chr> & <dbl> & <dbl> & <dbl> & <dbl>\\\\\n\\hline\n\t1 & 2017-01-01 & 15.91304 & 85.86957 & 2.743478 &   59.000\\\\\n\t2 & 2017-01-02 & 18.50000 & 77.22222 & 2.894444 & 1018.278\\\\\n\t3 & 2017-01-03 & 17.11111 & 81.88889 & 4.016667 & 1018.333\\\\\n\t4 & 2017-01-04 & 18.70000 & 70.05000 & 4.545000 & 1015.700\\\\\n\t5 & 2017-01-05 & 18.38889 & 74.94444 & 3.300000 & 1014.333\\\\\n\t6 & 2017-01-06 & 19.31818 & 79.31818 & 8.681818 & 1011.773\\\\\n\\end{tabular}\n",
            "text/plain": [
              "  date       meantemp humidity wind_speed meanpressure\n",
              "1 2017-01-01 15.91304 85.86957 2.743478     59.000    \n",
              "2 2017-01-02 18.50000 77.22222 2.894444   1018.278    \n",
              "3 2017-01-03 17.11111 81.88889 4.016667   1018.333    \n",
              "4 2017-01-04 18.70000 70.05000 4.545000   1015.700    \n",
              "5 2017-01-05 18.38889 74.94444 3.300000   1014.333    \n",
              "6 2017-01-06 19.31818 79.31818 8.681818   1011.773    "
            ]
          },
          "metadata": {}
        }
      ]
    },
    {
      "cell_type": "code",
      "source": [
        "# Convert the DATE column to Date type\n",
        "climate$date <- as.Date(climate$date)\n",
        "\n",
        "# Get the range of the date column\n",
        "date_range <- range(climate$date)\n",
        "\n",
        "# Print the result\n",
        "date_range"
      ],
      "metadata": {
        "id": "KBoLAmsuEVYp",
        "colab": {
          "base_uri": "https://localhost:8080/",
          "height": 34
        },
        "outputId": "e13fff4e-d141-441e-e46f-058b85f1fccf"
      },
      "execution_count": 11,
      "outputs": [
        {
          "output_type": "display_data",
          "data": {
            "text/html": [
              "<style>\n",
              ".list-inline {list-style: none; margin:0; padding: 0}\n",
              ".list-inline>li {display: inline-block}\n",
              ".list-inline>li:not(:last-child)::after {content: \"\\00b7\"; padding: 0 .5ex}\n",
              "</style>\n",
              "<ol class=list-inline><li><time datetime=\"2017-01-01\">2017-01-01</time></li><li><time datetime=\"2017-04-24\">2017-04-24</time></li></ol>\n"
            ],
            "text/markdown": "1. 2017-01-01\n2. 2017-04-24\n\n\n",
            "text/latex": "\\begin{enumerate*}\n\\item 2017-01-01\n\\item 2017-04-24\n\\end{enumerate*}\n",
            "text/plain": [
              "[1] \"2017-01-01\" \"2017-04-24\""
            ]
          },
          "metadata": {}
        }
      ]
    },
    {
      "cell_type": "code",
      "source": [
        "# Calculate percentage change in mean temperature\n",
        "climate <- climate %>%\n",
        "  arrange(date) %>%\n",
        "  mutate(temp_pct_change = (meantemp - lag(meantemp)) / lag(meantemp) * 100)\n",
        "\n",
        "# Remove NA values caused by the lag function\n",
        "climate <- climate %>%\n",
        "  filter(!is.na(temp_pct_change))\n",
        "\n",
        "# Now, let's run a simple linear regression to model how temperature changes over time, including exogenous variable humidity and meanpressure.\n",
        "model <- lm(temp_pct_change ~ as.numeric(date) + humidity + meanpressure, data = climate)\n",
        "\n",
        "# View the summary of the regression\n",
        "summary(model)"
      ],
      "metadata": {
        "colab": {
          "base_uri": "https://localhost:8080/",
          "height": 390
        },
        "id": "tc9BDmPJWHbf",
        "outputId": "c3b98567-4693-438b-e2dd-181a2649d352"
      },
      "execution_count": 16,
      "outputs": [
        {
          "output_type": "display_data",
          "data": {
            "text/plain": [
              "\n",
              "Call:\n",
              "lm(formula = temp_pct_change ~ as.numeric(date) + humidity + \n",
              "    meanpressure, data = climate)\n",
              "\n",
              "Residuals:\n",
              "     Min       1Q   Median       3Q      Max \n",
              "-18.7220  -4.1530  -0.4331   4.7443  22.5744 \n",
              "\n",
              "Coefficients:\n",
              "                   Estimate Std. Error t value Pr(>|t|)   \n",
              "(Intercept)       503.53617 1356.42002   0.371  0.71120   \n",
              "as.numeric(date)   -0.06005    0.06959  -0.863  0.39012   \n",
              "humidity           -0.27896    0.10177  -2.741  0.00717 **\n",
              "meanpressure        0.54050    0.25615   2.110  0.03716 * \n",
              "---\n",
              "Signif. codes:  0 ‘***’ 0.001 ‘**’ 0.01 ‘*’ 0.05 ‘.’ 0.1 ‘ ’ 1\n",
              "\n",
              "Residual standard error: 8.366 on 108 degrees of freedom\n",
              "Multiple R-squared:  0.09848,\tAdjusted R-squared:  0.07344 \n",
              "F-statistic: 3.932 on 3 and 108 DF,  p-value: 0.01046\n"
            ]
          },
          "metadata": {}
        }
      ]
    },
    {
      "cell_type": "markdown",
      "source": [
        "### Humidity and air pressure are showing as significant, while the date isn't, according to this simple linear model.\n",
        "### The coefficient for humidity indicates that, for every 1 unit increase in humidity (units are grams of water vapor per cubic meter volume of air), the percentage change in temperature is expected to decrease by 0.278%.\n",
        "### The coefficient for meanpressure indicates that, for every 1 unit increase in meanpressure (measured in atm), the percentage change in temperature is expected to increase by 0.540%."
      ],
      "metadata": {
        "id": "efvF9h16oMnZ"
      }
    },
    {
      "cell_type": "code",
      "source": [
        "# Durbin-Watson Test for autocorrelation\n",
        "durbinWatsonTest(model)"
      ],
      "metadata": {
        "colab": {
          "base_uri": "https://localhost:8080/",
          "height": 70
        },
        "id": "42SFbeqVErh0",
        "outputId": "c3684c82-4efe-4c73-d0a9-2815372b8802"
      },
      "execution_count": 17,
      "outputs": [
        {
          "output_type": "display_data",
          "data": {
            "text/plain": [
              " lag Autocorrelation D-W Statistic p-value\n",
              "   1     -0.06278861      2.115929     0.7\n",
              " Alternative hypothesis: rho != 0"
            ]
          },
          "metadata": {}
        }
      ]
    },
    {
      "cell_type": "markdown",
      "source": [
        "### The large p-value of 0.7 means we have no evidence to suggest that there is autocorrelation in the residuals, and thus, the residuals can be considered independent over time. Also, the D-W statistic (2.116) is close to 2, which is what we would expect if the residuals were uncorrelated (independent)."
      ],
      "metadata": {
        "id": "5ms4uqfKUjaU"
      }
    },
    {
      "cell_type": "code",
      "source": [
        "# Perform the Augmented Dickey-Fuller test on GDP percent change\n",
        "adf_test_result <- adf.test(climate$temp_pct_change)\n",
        "\n",
        "# Print the result\n",
        "print(adf_test_result)"
      ],
      "metadata": {
        "colab": {
          "base_uri": "https://localhost:8080/"
        },
        "id": "aTCzYXMYo871",
        "outputId": "04993496-1ff1-4228-a41e-26fad3a5002b"
      },
      "execution_count": 18,
      "outputs": [
        {
          "output_type": "stream",
          "name": "stderr",
          "text": [
            "Warning message in adf.test(climate$temp_pct_change):\n",
            "“p-value smaller than printed p-value”\n"
          ]
        },
        {
          "output_type": "stream",
          "name": "stdout",
          "text": [
            "\n",
            "\tAugmented Dickey-Fuller Test\n",
            "\n",
            "data:  climate$temp_pct_change\n",
            "Dickey-Fuller = -5.9752, Lag order = 4, p-value = 0.01\n",
            "alternative hypothesis: stationary\n",
            "\n"
          ]
        }
      ]
    },
    {
      "cell_type": "markdown",
      "source": [
        "### The test statistic of -5.97 is quite negative, which, alongside the very low p-value of 0.01, strongly suggests that our time series is stationary, so there is no need for a difference score and d will equal 0 in our ARIMA code."
      ],
      "metadata": {
        "id": "BnefgCHCpWEA"
      }
    },
    {
      "cell_type": "code",
      "source": [
        "acf((climate$temp_pct_change), main='')"
      ],
      "metadata": {
        "colab": {
          "base_uri": "https://localhost:8080/",
          "height": 437
        },
        "id": "I9LUh3ZXqXoN",
        "outputId": "45f2f537-3f41-4908-aa00-329a61556742"
      },
      "execution_count": 19,
      "outputs": [
        {
          "output_type": "display_data",
          "data": {
            "text/plain": [
              "Plot with title “”"
            ],
            "image/png": "[encoded data removed]"
          },
          "metadata": {
            "image/png": {
              "width": 420,
              "height": 420
            }
          }
        }
      ]
    },
    {
      "cell_type": "markdown",
      "source": [
        "### Since none of the vertical lines at any lag (other than lag 0) cross the ±0.2 thresholds, this suggests that there is no significant autocorrelation at any of the lags. From what I understand, this suggests that the time series does not exhibit strong correlations with its past values, at least based on this plot. This could mean that the time series is relatively independent of past values. It also means that q=0."
      ],
      "metadata": {
        "id": "vbeq8TBxq2HT"
      }
    },
    {
      "cell_type": "code",
      "source": [
        "pacf((climate$temp_pct_change), main='')"
      ],
      "metadata": {
        "colab": {
          "base_uri": "https://localhost:8080/",
          "height": 437
        },
        "id": "f8g5V8hvqziD",
        "outputId": "b0ea0320-5af5-4ac9-f22a-1e0261bf77b7"
      },
      "execution_count": 20,
      "outputs": [
        {
          "output_type": "display_data",
          "data": {
            "text/plain": [
              "Plot with title “”"
            ],
            "image/png": "[encoded data removed]"
          },
          "metadata": {
            "image/png": {
              "width": 420,
              "height": 420
            }
          }
        }
      ]
    },
    {
      "cell_type": "markdown",
      "source": [
        "### Since none of the vertical lines cross the threshold, including lag 0 this time, the plot suggests that the past values don't explain the current value in a meaningful way when accounting for earlier time points. p=0"
      ],
      "metadata": {
        "id": "NZ5BL8YOreDQ"
      }
    },
    {
      "cell_type": "markdown",
      "source": [
        "### I researched a bit into what it means if d, q, and p all equal zero like we have here, and it seems to be referred to as a white noise model, where the time series is essentially modeled as white noise (random fluctuations without any discernible pattern), meaning the series doesn't show significant structure that could be captured by AR or MA terms.\n",
        "### Knowing that we're dealing with a white noise model could by itself answer our initial question, that there is no time-based trend or anomaly in our data over its short time period from 1/1/17 to 4/24/17. If I was in a climate analyst whose job it was to make sure no such anomalies are present, this could actually be very useful and good news. But certainly let's still carry out the manual ARIMA model to see what it says."
      ],
      "metadata": {
        "id": "FT9ebNv8rpvT"
      }
    },
    {
      "cell_type": "code",
      "source": [
        "# Run Manual ARIMA\n",
        "xreg <- model.matrix(~ humidity + meanpressure, data = climate)[, -1]\n",
        "\n",
        "manual_ARIMA<-arima(climate$temp_pct_change, order=c(0,0,0), xreg = xreg)\n",
        "summary(manual_ARIMA)"
      ],
      "metadata": {
        "colab": {
          "base_uri": "https://localhost:8080/",
          "height": 266
        },
        "id": "5Pekc7fWrvgO",
        "outputId": "5d42d763-ea44-466e-aefa-b1b31e2de243"
      },
      "execution_count": 23,
      "outputs": [
        {
          "output_type": "display_data",
          "data": {
            "text/plain": [
              "\n",
              "Call:\n",
              "arima(x = climate$temp_pct_change, order = c(0, 0, 0), xreg = xreg)\n",
              "\n",
              "Coefficients:\n",
              "      intercept  humidity  meanpressure\n",
              "      -651.6626   -0.2120        0.6563\n",
              "s.e.   214.8973    0.0649        0.2150\n",
              "\n",
              "sigma^2 estimated as 67.96:  log likelihood = -395.18,  aic = 798.37\n",
              "\n",
              "Training set error measures:\n",
              "                        ME     RMSE      MAE  MPE MAPE      MASE       ACF1\n",
              "Training set -1.410392e-12 8.243985 6.200934 -Inf  Inf 0.6465357 -0.0954994"
            ]
          },
          "metadata": {}
        }
      ]
    },
    {
      "cell_type": "markdown",
      "source": [
        "The manual ARIMA outperformed the auto ARIMA (AIC 214 vs 228) so I'll stick with manual."
      ],
      "metadata": {
        "id": "qqfLQHa2xSKf"
      }
    },
    {
      "cell_type": "code",
      "source": [
        "# Run auto-ARIMA\n",
        "xreg <- model.matrix(~ humidity + meanpressure, data = climate)[, -1]\n",
        "\n",
        "arima_model <- auto.arima(climate$temp_pct_change, xreg = xreg)\n",
        "summary(arima_model)"
      ],
      "metadata": {
        "colab": {
          "base_uri": "https://localhost:8080/",
          "height": 266
        },
        "id": "L0eq8CDFFFd1",
        "outputId": "b6eca31c-624a-4050-bec6-988fc8986f93"
      },
      "execution_count": 21,
      "outputs": [
        {
          "output_type": "display_data",
          "data": {
            "text/plain": [
              "Series: climate$temp_pct_change \n",
              "Regression with ARIMA(0,0,0) errors \n",
              "\n",
              "Coefficients:\n",
              "      intercept  humidity  meanpressure\n",
              "      -651.6626   -0.2120        0.6563\n",
              "s.e.   214.8973    0.0649        0.2150\n",
              "\n",
              "sigma^2 = 69.83:  log likelihood = -395.18\n",
              "AIC=798.37   AICc=798.74   BIC=809.24\n",
              "\n",
              "Training set error measures:\n",
              "                        ME     RMSE      MAE  MPE MAPE      MASE       ACF1\n",
              "Training set -1.410392e-12 8.243985 6.200934 -Inf  Inf 0.6465357 -0.0954994"
            ]
          },
          "metadata": {}
        }
      ]
    },
    {
      "cell_type": "markdown",
      "source": [
        "### The output for the manual ARIMA and auto ARIMA are the same, which is what is expected when we're dealing with an ARIMA(0,0,0) case like this. The model is effectively a simple regression model with white noise errors. The significant predictor is mean pressure with a positive influence on temperature change, while humidity has a small but negative effect. Since the model uses white noise errors, the time series doesn't exhibit meaningful autocorrelation."
      ],
      "metadata": {
        "id": "ncJvQaMEt-xO"
      }
    },
    {
      "cell_type": "code",
      "source": [
        "# Extract the coefficients and standard errors\n",
        "coefs <- coef(manual_ARIMA)\n",
        "se <- sqrt(diag(vcov(manual_ARIMA)))\n",
        "\n",
        "# Calculate z-statistics\n",
        "z_values <- coefs / se\n",
        "\n",
        "# Calculate p-values (two-tailed test)\n",
        "p_values <- 2 * pnorm(abs(z_values), lower.tail = FALSE)\n",
        "\n",
        "# Combine coefficients, standard errors, z-values, and p-values into a data frame\n",
        "results <- data.frame(Coefficient = coefs, `Standard Error` = se, `Z-value` = z_values, `P-value` = p_values)\n",
        "\n",
        "# Print results\n",
        "print(results)"
      ],
      "metadata": {
        "colab": {
          "base_uri": "https://localhost:8080/"
        },
        "id": "5JcEtXjAbfsN",
        "outputId": "568a0934-f062-4fcd-bb6e-1c74c1058964"
      },
      "execution_count": 24,
      "outputs": [
        {
          "output_type": "stream",
          "name": "stdout",
          "text": [
            "              Coefficient Standard.Error   Z.value     P.value\n",
            "intercept    -651.6625594   214.89732517 -3.032437 0.002425879\n",
            "humidity       -0.2119857     0.06486098 -3.268308 0.001081925\n",
            "meanpressure    0.6562586     0.21501767  3.052115 0.002272351\n"
          ]
        }
      ]
    },
    {
      "cell_type": "markdown",
      "source": [
        "### Humidity and air pressure are again showing as being statistically significant, with very low p-values (0.001 and 0.002, respectively), like they were in our simple linear model from earlier."
      ],
      "metadata": {
        "id": "Io-ZuDUqsrmr"
      }
    },
    {
      "cell_type": "code",
      "source": [
        "checkresiduals(manual_ARIMA)"
      ],
      "metadata": {
        "colab": {
          "base_uri": "https://localhost:8080/",
          "height": 579
        },
        "id": "9zH3-1nQunsr",
        "outputId": "33c26b1b-8f65-4bcb-e6f2-14fdeaae6e50"
      },
      "execution_count": 25,
      "outputs": [
        {
          "output_type": "stream",
          "name": "stdout",
          "text": [
            "\n",
            "\tLjung-Box test\n",
            "\n",
            "data:  Residuals from ARIMA(0,0,0) with non-zero mean\n",
            "Q* = 7.7201, df = 10, p-value = 0.6562\n",
            "\n",
            "Model df: 0.   Total lags used: 10\n",
            "\n"
          ]
        },
        {
          "output_type": "display_data",
          "data": {
            "text/plain": [
              "plot without title"
            ],
            "image/png": "[encoded data removed]"
          },
          "metadata": {
            "image/png": {
              "width": 420,
              "height": 420
            }
          }
        }
      ]
    },
    {
      "cell_type": "markdown",
      "source": [
        "### Since the p-value (0.6562) is really high, we fail to reject the null hypothesis. This means that there is no evidence of significant autocorrelation in the residuals, and the residuals appear to be random (white noise)."
      ],
      "metadata": {
        "id": "TdbEv2KyuzmK"
      }
    },
    {
      "cell_type": "code",
      "source": [
        "# Calculate the residuals for ARIMA model\n",
        "arima_resid <- residuals(manual_ARIMA)\n",
        "\n",
        "# Pseudo R-squared\n",
        "pseudo_r_squared_arima <- 1 - var(arima_resid) / var(climate$temp_pct_change)\n",
        "\n",
        "cat(\"ARIMA Pseudo R-squared\", pseudo_r_squared_arima, \"\\n\")\n",
        "cat(\"OLS R-squared\", summary(model)$r.squared)"
      ],
      "metadata": {
        "colab": {
          "base_uri": "https://localhost:8080/"
        },
        "id": "IZIFjq6cXk8K",
        "outputId": "32c537ba-729b-4c89-dac1-0ad99ae42912"
      },
      "execution_count": 27,
      "outputs": [
        {
          "output_type": "stream",
          "name": "stdout",
          "text": [
            "ARIMA Pseudo R-squared 0.09226336 \n",
            "OLS R-squared 0.09847852"
          ]
        }
      ]
    },
    {
      "cell_type": "markdown",
      "source": [
        "### Both models explain a very similarly low percentage of the variation in our dependent variable: only about 9%. This could be due to the very small range of dates available in this dataset, or that we're missing some significant variables in explaining the temperature's percent change over time."
      ],
      "metadata": {
        "id": "WUgO6WR_vK_6"
      }
    },
    {
      "cell_type": "code",
      "source": [
        "# Residuals from the ARIMA model\n",
        "arima_resid <- residuals(manual_ARIMA)\n",
        "\n",
        "# Total variance of the original time series\n",
        "total_variance <- var(gdp_filtered$gdp_pct_change)\n",
        "\n",
        "# Residual variance of the ARIMA model\n",
        "residual_variance <- var(arima_resid)\n",
        "\n",
        "# Number of observations\n",
        "n <- length(gdp_filtered$gdp_pct_change)\n",
        "\n",
        "# Number of parameters in the ARIMA model (p = AR + MA + differencing terms)\n",
        "p <- length(manual_ARIMA$coef) + manual_ARIMA$arma[6]\n",
        "\n",
        "# Adjusted Pseudo R-squared\n",
        "adjusted_pseudo_r_squared <- 1 - (residual_variance / total_variance) * (n - 1) / (n - p - 1)\n",
        "\n",
        "# Print the result\n",
        "cat(\"ARIMA Adjusted Pseudo R-squared:\", adjusted_pseudo_r_squared, \"\\n\")\n",
        "cat(\"OLS Adjusted R-squared\", summary(model)$adj.r.squared)"
      ],
      "metadata": {
        "colab": {
          "base_uri": "https://localhost:8080/"
        },
        "id": "LW9UbM7PZ6KO",
        "outputId": "b704ef0b-4d8b-4dbe-dc6a-960a9b325b12"
      },
      "execution_count": null,
      "outputs": [
        {
          "output_type": "stream",
          "name": "stdout",
          "text": [
            "ARIMA Adjusted Pseudo R-squared: 0.2870026 \n",
            "OLS Adjusted R-squared -0.06379384"
          ]
        }
      ]
    },
    {
      "cell_type": "markdown",
      "source": [
        "### The ARIMA Adjusted Pseudo R-squared of 0.28 is much greater than the OLS Adjusted R-squared of -0.06. So, the ARIMA model appears to be a better fit for our data compared to the OLS regression. While the ARIMA model is not perfect (the pseudo R-squared value is still pretty small), it is a significant improvement over the OLS regression."
      ],
      "metadata": {
        "id": "P7uUpFvHvrQe"
      }
    },
    {
      "cell_type": "code",
      "source": [
        "# AIC for ARIMA model\n",
        "AIC_arima <- AIC(manual_ARIMA)\n",
        "\n",
        "# AIC for OLS model\n",
        "AIC_ols <- AIC(model)\n",
        "\n",
        "# Compare AIC values\n",
        "cat(\"ARIMA AIC\", AIC_arima, \"\\n\")\n",
        "cat(\"OLS AIC\", AIC_ols)"
      ],
      "metadata": {
        "colab": {
          "base_uri": "https://localhost:8080/"
        },
        "id": "ViP7HlPuXxNb",
        "outputId": "ed1d983e-69b6-4aee-ad3d-2dad2df62628"
      },
      "execution_count": 28,
      "outputs": [
        {
          "output_type": "stream",
          "name": "stdout",
          "text": [
            "ARIMA AIC 798.3666 \n",
            "OLS AIC 799.5971"
          ]
        }
      ]
    },
    {
      "cell_type": "markdown",
      "source": [
        "### This output suggests that both models have a similar fit, but the ARIMA model is slightly better."
      ],
      "metadata": {
        "id": "Zvc37yPSwYO1"
      }
    },
    {
      "cell_type": "code",
      "source": [
        "# For ARIMA model: Forecast on the same data\n",
        "arima_fitted <- fitted(manual_ARIMA)\n",
        "\n",
        "# For OLS model: Get the fitted values\n",
        "ols_fitted <- fitted(model)\n",
        "\n",
        "# Calculate RMSE for ARIMA\n",
        "rmse_arima <- sqrt(mean((climate$temp_pct_change - arima_fitted)^2))\n",
        "\n",
        "# Calculate RMSE for OLS\n",
        "rmse_ols <- sqrt(mean((climate$temp_pct_change - ols_fitted)^2))\n",
        "\n",
        "# Compare RMSE\n",
        "rmse_arima\n",
        "rmse_ols"
      ],
      "metadata": {
        "colab": {
          "base_uri": "https://localhost:8080/",
          "height": 52
        },
        "id": "3KJ7UqkJYwnH",
        "outputId": "38b19fc5-e9e8-45cd-ce02-ab3bed8a6f71"
      },
      "execution_count": 30,
      "outputs": [
        {
          "output_type": "display_data",
          "data": {
            "text/html": [
              "8.24398456296485"
            ],
            "text/markdown": "8.24398456296485",
            "text/latex": "8.24398456296485",
            "text/plain": [
              "[1] 8.243985"
            ]
          },
          "metadata": {}
        },
        {
          "output_type": "display_data",
          "data": {
            "text/html": [
              "8.21571333028219"
            ],
            "text/markdown": "8.21571333028219",
            "text/latex": "8.21571333028219",
            "text/plain": [
              "[1] 8.215713"
            ]
          },
          "metadata": {}
        }
      ]
    }
  ]
}